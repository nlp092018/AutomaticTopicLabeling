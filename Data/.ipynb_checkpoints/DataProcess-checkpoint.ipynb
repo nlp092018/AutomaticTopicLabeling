{
 "cells": [
  {
   "cell_type": "markdown",
   "metadata": {},
   "source": [
    "# 1. Import Packages"
   ]
  },
  {
   "cell_type": "markdown",
   "metadata": {},
   "source": [
    "Need to install these packages in terminal in your environment"
   ]
  },
  {
   "cell_type": "code",
   "execution_count": 2,
   "metadata": {},
   "outputs": [],
   "source": [
    "import os,sys\n",
    "\n",
    "import pickle\n",
    "import csv\n",
    "#print(sys.version_info[0])\n",
    "\n",
    "import time\n",
    "import re\n",
    "import numpy as np\n",
    "import pandas as pd\n",
    "\n",
    "# spacy for lemmatization\n",
    "import spacy"
   ]
  },
  {
   "cell_type": "code",
   "execution_count": null,
   "metadata": {},
   "outputs": [],
   "source": []
  },
  {
   "cell_type": "code",
   "execution_count": 12,
   "metadata": {
    "scrolled": true
   },
   "outputs": [],
   "source": []
  },
  {
   "cell_type": "markdown",
   "metadata": {},
   "source": [
    "Genism\n",
    "Here we add Gensim libraries "
   ]
  },
  {
   "cell_type": "code",
   "execution_count": 3,
   "metadata": {},
   "outputs": [],
   "source": [
    "import warnings\n",
    "warnings.filterwarnings(\"ignore\",category=DeprecationWarning)\n",
    "\n",
    "import gensim \n",
    "import gensim.corpora as corpora\n",
    "from gensim.utils import simple_preprocess\n",
    "from gensim.models import coherencemodel"
   ]
  },
  {
   "cell_type": "markdown",
   "metadata": {},
   "source": [
    "plotting tools "
   ]
  },
  {
   "cell_type": "code",
   "execution_count": 4,
   "metadata": {
    "scrolled": true
   },
   "outputs": [],
   "source": [
    "# import pyLDAvis\n",
    "# import pyLDAvis.gensim # don't skip this \n",
    "# import matplotlib.pyplot as plt "
   ]
  },
  {
   "cell_type": "markdown",
   "metadata": {},
   "source": [
    "Enable logging for gensim - optional"
   ]
  },
  {
   "cell_type": "code",
   "execution_count": 5,
   "metadata": {},
   "outputs": [],
   "source": [
    "import logging\n",
    "logging.basicConfig(format='%(asctime)s : %(levelname)s : %(message)s', level=logging.ERROR)"
   ]
  },
  {
   "cell_type": "markdown",
   "metadata": {},
   "source": []
  },
  {
   "cell_type": "markdown",
   "metadata": {},
   "source": [
    "Prepare Stopwords\n",
    "We have already downloaded the stopwords. Let’s import them and make it available in stop_words."
   ]
  },
  {
   "cell_type": "code",
   "execution_count": 4,
   "metadata": {},
   "outputs": [
    {
     "name": "stdout",
     "output_type": "stream",
     "text": [
      "[nltk_data] Downloading package stopwords to\n",
      "[nltk_data]     /home/CAMPUS/nabieir/nltk_data...\n",
      "[nltk_data]   Package stopwords is already up-to-date!\n"
     ]
    }
   ],
   "source": [
    "# NLTK Stop words\n",
    "import nltk\n",
    "nltk.download('stopwords')\n",
    "from nltk.corpus import stopwords\n",
    "\n",
    "stop_words = stopwords.words('english')\n",
    "stop_words.extend(['from', 'subject', 're', 'edu', 'use'])"
   ]
  },
  {
   "cell_type": "code",
   "execution_count": null,
   "metadata": {},
   "outputs": [],
   "source": []
  },
  {
   "cell_type": "code",
   "execution_count": 4,
   "metadata": {},
   "outputs": [
    {
     "name": "stdout",
     "output_type": "stream",
     "text": [
      "Yay, the file exists!\n"
     ]
    }
   ],
   "source": [
    "# from pathlib import Path\n",
    "import os,sys\n",
    "from pathlib import Path\n",
    "curr_dir = os.getcwd() + '/'\n",
    "\n",
    "filename = curr_dir + \"../Data/Outputs/YelpClinicalReview/clinical_reviews_texted.txt\" #Path to .txt data file one document per sentence\n",
    "if not os.path.isfile(filename):\n",
    "    print(\"Oops, file doesn't exist!\")\n",
    "else:\n",
    "    print(\"Yay, the file exists!\")\n",
    "#Read input .txt data and load to an array\n",
    "with open(filename, 'r', encoding=\"utf-8\") as f:\n",
    "    data = f.read().splitlines()\n",
    "\n",
    "    \n",
    "def savetofile (fpath,data):\n",
    "    with open(fpath,\"wt\") as f:\n",
    "        for sent in data:\n",
    "            f.write(sent + '\\n')    "
   ]
  },
  {
   "cell_type": "code",
   "execution_count": 8,
   "metadata": {},
   "outputs": [],
   "source": []
  },
  {
   "cell_type": "markdown",
   "metadata": {},
   "source": [
    "# Deleting non-English sentences \n",
    "We can use polyglot or langdetect package. polyglot is faster and can be used for name-entity detection as well. "
   ]
  },
  {
   "cell_type": "code",
   "execution_count": 5,
   "metadata": {},
   "outputs": [],
   "source": [
    "## detecting non-english sentences\n",
    "from polyglot.detect import Detector\n",
    "non_english = {}\n",
    "\n",
    "for i,sent in enumerate(data):\n",
    "    detector = Detector(sent,quiet=True)\n",
    "    if detector.language.code != 'en':\n",
    "        non_english[i] = sent\n",
    "#print(len(non_english),len(data))\n",
    "\n",
    "## save only english text as a new source text data \n",
    "\n",
    "# for index in sorted(non_english, reverse=True):     #Delete detected non_english sentences\n",
    "#     del data[index]\n",
    "    \n",
    "# with open(curr_dir + \"data/clinical_reviews_only_english.txt\",\"wt\") as f:\n",
    "#     for sent in data:\n",
    "#         f.write(sent + '\\n')\n",
    "\n",
    "##### This is another package langdetect but it is slower !!!\n",
    "\n",
    "# from langdetect import detect\n",
    "\n",
    "# non_english = []\n",
    "\n",
    "# for i,sent in enumerate(data):\n",
    "#     detector = detect(sent)\n",
    "#     if detector != 'en':\n",
    "#         non_english.append(sent)\n",
    "#         print(i,sent)\n",
    "        \n",
    "# print(len(non_english))"
   ]
  },
  {
   "cell_type": "code",
   "execution_count": 10,
   "metadata": {},
   "outputs": [],
   "source": [
    "\n",
    "        "
   ]
  },
  {
   "cell_type": "markdown",
   "metadata": {},
   "source": [
    "# Find abbriviation"
   ]
  },
  {
   "cell_type": "code",
   "execution_count": 11,
   "metadata": {},
   "outputs": [],
   "source": [
    "# A = \"salam che LSB khoobi ?\"\n",
    "# test = re.findall('([A-Z]+)', A)\n",
    "# print(test)\n",
    "# import re\n",
    "# for i,sent in enumerate(data):\n",
    "#     abbr = re.findall(r'\\b[A-Z][A-Z]+\\b',sent)\n",
    "#     if len(abbr) > 0:\n",
    "#         print (i,abbr)"
   ]
  },
  {
   "cell_type": "code",
   "execution_count": 12,
   "metadata": {},
   "outputs": [],
   "source": [
    "# print(\"lenght of data was :\" + str(len(data)))\n",
    "# # Deleting very small sentences (Document)\n",
    "# #data1 = [1, 3, 6, 35, 3 ,47,9,15]\n",
    "# # print(data1)\n",
    "# i = 0\n",
    "# for n in data[:]:\n",
    "#     if len(n) < 200:\n",
    "#         print(n)\n",
    "#         data.remove(n)\n",
    "        \n",
    "# savetofile(curr_dir + \"data/clinical_reviews_only_english_200char.txt\",data)       "
   ]
  },
  {
   "cell_type": "markdown",
   "metadata": {},
   "source": [
    "# 3. Import Patient review data from Yelp dataset"
   ]
  },
  {
   "cell_type": "code",
   "execution_count": 13,
   "metadata": {},
   "outputs": [],
   "source": [
    "# def CountChar(List):      # funtion to count all the characters in a list\n",
    "#     sum = 0\n",
    "#     for line in List:\n",
    "#         sum += len(line)\n",
    "#     return sum\n",
    "# # OriginalLenght = sum(len(line) for line in List) # this is more pythonic"
   ]
  },
  {
   "cell_type": "markdown",
   "metadata": {},
   "source": [
    "# 8. Tokenize words and Clean-up text\n",
    "Let’s tokenize each sentence into a list of words, removing punctuations and unnecessary characters altogether.\n",
    "\n",
    "Gensim’s simple_preprocess() is great for this. Additionally I have set deacc=True to remove the punctuations."
   ]
  },
  {
   "cell_type": "code",
   "execution_count": 14,
   "metadata": {},
   "outputs": [],
   "source": [
    "def sent_to_words(sentences):\n",
    "    for i,sentence in enumerate(sentences):\n",
    "#         if i % 100000 == 0:    # this is just for debugging when the database is very big\n",
    "#             print (i/100000)\n",
    "        yield(gensim.utils.simple_preprocess(str(sentence), deacc=True))  # deacc=True removes punctuations\n",
    "\n",
    "# TODO count the number of sentences         \n",
    "data_words = list(sent_to_words(data))\n",
    "#data_words = list(filter(None, data_words)) #_ remove empty cells in the list\n",
    "#data = list(filter(None, data)) #_ remove empty cells in the list\n",
    "#print(len(data))\n",
    "# TODO count the number of sentences maybe compare them here"
   ]
  },
  {
   "cell_type": "code",
   "execution_count": 174,
   "metadata": {},
   "outputs": [
    {
     "name": "stdout",
     "output_type": "stream",
     "text": [
      "['inthenameofgodr', 'the', 'lord', 'name', 'of', 'god']\n"
     ]
    }
   ],
   "source": [
    "print(gensim.utils.simple_preprocess('InthenameofGodR the, 1lord name of God!', deacc=True))"
   ]
  },
  {
   "cell_type": "code",
   "execution_count": 15,
   "metadata": {},
   "outputs": [],
   "source": [
    "# # print(sum(len(sen) for sen in data))\n",
    "# print(CountChar(data)) \n",
    "# # print(sum(len(words) for words in data_words))\n",
    "# print(CountChar(data_words))"
   ]
  },
  {
   "cell_type": "markdown",
   "metadata": {},
   "source": [
    "# 9. Creating Bigram and Trigram Models\n",
    "Bigrams are two words frequently occurring together in the document. Trigrams are 3 words frequently occurring.\n",
    "\n",
    "Some examples in our patient review data are: ‘weight_loss’, ‘weigth_training’, 'most_likely' etc.\n",
    "\n",
    "Gensim’s Phrases model can build and implement the bigrams, trigrams, quadgrams and more. The two important arguments to Phrases are min_count and threshold. The higher the values of these param, the harder it is for words to be combined to bigrams."
   ]
  },
  {
   "cell_type": "code",
   "execution_count": 16,
   "metadata": {},
   "outputs": [
    {
     "name": "stderr",
     "output_type": "stream",
     "text": [
      "/home/CAMPUS/nabieir/anaconda3/envs/python3.6/lib/python3.6/site-packages/gensim/models/phrases.py:494: UserWarning: For a faster implementation, use the gensim.models.phrases.Phraser class\n",
      "  warnings.warn(\"For a faster implementation, use the gensim.models.phrases.Phraser class\")\n"
     ]
    }
   ],
   "source": [
    "# Build the bigram and trigram models\n",
    "bigram = gensim.models.Phrases(data_words, min_count=5, threshold=80)# higher threshold fewer phrases.\n",
    "trigram = gensim.models.Phrases(bigram[data_words], threshold=100)  \n",
    "\n",
    "# Faster way to get a sentence clubbed as a trigram/bigram\n",
    "bigram_mod = gensim.models.phrases.Phraser(bigram)\n",
    "trigram_mod = gensim.models.phrases.Phraser(trigram)\n",
    "\n",
    "# See trigram example\n",
    "# Print(trigram_mod[bigram_mod[data_words[0]]])"
   ]
  },
  {
   "cell_type": "code",
   "execution_count": 17,
   "metadata": {},
   "outputs": [],
   "source": [
    "#len(bigram_mod)"
   ]
  },
  {
   "cell_type": "code",
   "execution_count": 18,
   "metadata": {},
   "outputs": [],
   "source": [
    "#print(bigram_mod[data_words[59]])"
   ]
  },
  {
   "cell_type": "markdown",
   "metadata": {},
   "source": [
    "##### 10. Remove Stopwords, Make Bigrams and Lemmatize\n",
    "The bigrams model is ready. Let’s define the functions to remove the stopwords, make bigrams and lemmatization and call them sequentially."
   ]
  },
  {
   "cell_type": "code",
   "execution_count": 19,
   "metadata": {},
   "outputs": [],
   "source": [
    "# Define functions for stopwords, bigrams, trigrams and lemmatization\n",
    "def remove_stopwords(texts):\n",
    "    return [[word for word in simple_preprocess(str(doc)) if word not in stop_words] for doc in texts]\n",
    "\n",
    "def make_bigrams(texts):\n",
    "    return [bigram_mod[doc] for doc in texts]\n",
    "\n",
    "def make_trigrams(texts):\n",
    "    return [trigram_mod[bigram_mod[doc]] for doc in texts]\n",
    "\n",
    "def lemmatization(texts, allowed_postags=['NOUN', 'ADJ', 'VERB', 'ADV']):\n",
    "    \"\"\"https://spacy.io/api/annotation\"\"\"\n",
    "    texts_out = []\n",
    "    for sent in texts:\n",
    "        doc = nlp(\" \".join(sent)) \n",
    "        texts_out.append([token.lemma_ for token in doc if token.pos_ in allowed_postags])\n",
    "    return texts_out"
   ]
  },
  {
   "cell_type": "markdown",
   "metadata": {},
   "source": [
    "Let’s call the functions in order."
   ]
  },
  {
   "cell_type": "code",
   "execution_count": 20,
   "metadata": {},
   "outputs": [],
   "source": [
    "# Remove Stop Words\n",
    "data_words_nostops = remove_stopwords(data_words)\n",
    "\n",
    "# Form Bigrams\n",
    "data_words_bigrams = make_bigrams(data_words_nostops)\n",
    "\n",
    "# Initialize spacy 'en' model, keeping only tagger component (for efficiency)\n",
    "# python3 -m spacy download en\n",
    "nlp = spacy.load('en', disable=['parser', 'ner'])\n",
    "\n",
    "# Do lemmatization keeping only noun, adj, vb, adv\n",
    "data_lemmatized = lemmatization(data_words_bigrams, allowed_postags=['NOUN', 'ADJ', 'VERB', 'ADV'])\n"
   ]
  },
  {
   "cell_type": "code",
   "execution_count": 314,
   "metadata": {},
   "outputs": [
    {
     "data": {
      "text/plain": [
       "[['physical_therapy']]"
      ]
     },
     "execution_count": 314,
     "metadata": {},
     "output_type": "execute_result"
    }
   ],
   "source": [
    "make_bigrams([[\"physical\",\"therapy\"]])"
   ]
  },
  {
   "cell_type": "markdown",
   "metadata": {},
   "source": [
    "# 11. Create the Dictionary and Corpus needed for Topic Modeling\n",
    "The two main inputs to the LDA topic model are the dictionary(id2word) and the corpus. Let’s create them."
   ]
  },
  {
   "cell_type": "code",
   "execution_count": 21,
   "metadata": {},
   "outputs": [],
   "source": [
    "# Create Dictionary\n",
    "id2word = corpora.Dictionary(data_lemmatized)\n",
    "\n",
    "# Create Corpus\n",
    "texts = data_lemmatized\n",
    "\n",
    "# Term Document Frequency\n",
    "corpus = [id2word.doc2bow(text) for text in texts]\n",
    "\n",
    "#_ Joiining words together to build sentences this will be used later \n",
    "data = [' '.join(lemma) for lemma in data_lemmatized] \n",
    "\n",
    "# View\n",
    "# print(corpus[2])"
   ]
  },
  {
   "cell_type": "code",
   "execution_count": 22,
   "metadata": {},
   "outputs": [],
   "source": [
    "# import pandas as pd         #Find the term-frequency in dictionary        \n",
    "# # vocab = list(id2word.values()) #list of terms in the dictionary\n",
    "# vocab_tf = [dict(i) for i in corpus]\n",
    "# vocab_tf = list(pd.DataFrame(vocab_tf).sum(axis=0))"
   ]
  },
  {
   "cell_type": "code",
   "execution_count": 263,
   "metadata": {},
   "outputs": [
    {
     "name": "stdout",
     "output_type": "stream",
     "text": [
      "<class 'list'>\n",
      "go\n"
     ]
    }
   ],
   "source": [
    "# # rare_tokens = [index for index in range(len(vocab_tf)) if vocab_tf[index]<4] #index of the word that appear less than 3 times in the corpus\n",
    "# print(type(vocab_tf))\n",
    "# print(id2word[max(range(len(vocab_tf)), key=vocab_tf.__getitem__)])"
   ]
  },
  {
   "cell_type": "code",
   "execution_count": null,
   "metadata": {},
   "outputs": [],
   "source": [
    "# print([id2word[index] for index in one_tokens])"
   ]
  },
  {
   "cell_type": "markdown",
   "metadata": {},
   "source": [
    "Or, you can see a human-readable form of the corpus itself."
   ]
  },
  {
   "cell_type": "code",
   "execution_count": null,
   "metadata": {},
   "outputs": [],
   "source": [
    "# Human readable format of corpus (term-frequency)\n",
    "# [[(id2word[id], freq) for id, freq in cp] for cp in corpus[:10]]"
   ]
  },
  {
   "cell_type": "code",
   "execution_count": 166,
   "metadata": {},
   "outputs": [
    {
     "name": "stdout",
     "output_type": "stream",
     "text": [
      "15580\n",
      "15580\n",
      "54.70783055198973\n"
     ]
    }
   ],
   "source": [
    "# print(len(data_lemmatized))\n",
    "# print(len(corpus))\n",
    "# AVG = sum (len(Sen) for Sen in data_lemmatized)/len(data_lemmatized)\n",
    "# print(AVG)"
   ]
  },
  {
   "cell_type": "markdown",
   "metadata": {},
   "source": [
    "# Building LDA Mallet Model\n",
    "Gensim provides a wrapper to implement Mallet’s LDA from within Gensim itself. You only need to download the zipfile, unzip it and provide the path to mallet in the unzipped directory to gensim.models.wrappers.LdaMallet. See how I have done this below."
   ]
  },
  {
   "cell_type": "code",
   "execution_count": null,
   "metadata": {
    "scrolled": true
   },
   "outputs": [],
   "source": [
    "# # Download File: http://mallet.cs.umass.edu/dist/mallet-2.0.8.zip\n",
    "# mallet_path = '/home/CAMPUS/nabieir/anaconda3/mallet-2.0.8/bin/mallet' # update this path\n",
    "# ldamallet = gensim.models.wrappers.LdaMallet(mallet_path, corpus=corpus, num_topics=20, id2word=id2word)"
   ]
  },
  {
   "cell_type": "markdown",
   "metadata": {},
   "source": [
    "# Find the optimal number of topics for LDA?"
   ]
  },
  {
   "cell_type": "code",
   "execution_count": 23,
   "metadata": {},
   "outputs": [],
   "source": [
    "mallet_path = '/home/CAMPUS/nabieir/anaconda3/mallet-2.0.8/bin/mallet' # update this path\n",
    "\n",
    "def compute_coherence_values(dictionary, corpus, texts, limit, start=2, step=3):\n",
    "    \"\"\"\n",
    "    Compute c_v coherence for various number of topics\n",
    "\n",
    "    Parameters:\n",
    "    ----------\n",
    "    dictionary : Gensim dictionary\n",
    "    corpus : Gensim corpus\n",
    "    texts : List of input texts\n",
    "    limit : Max num of topics\n",
    "\n",
    "    Returns:\n",
    "    -------\n",
    "    model_list : List of LDA topic models\n",
    "    coherence_values : Coherence values corresponding to the LDA model with respective number of topics\n",
    "    \n",
    "    NOTE, The Coherence calcualation has been commented out, and calculated separately later\n",
    "    \"\"\"\n",
    "    #coherence_values = []\n",
    "    model_list = []\n",
    "    for num_topics in range(start, limit, step):\n",
    "        start_time = time.time()\n",
    "        print(\"Training LDA with %d topics starts ...\" % num_topics )\n",
    "        model = gensim.models.wrappers.LdaMallet(mallet_path, corpus=corpus, num_topics=num_topics, id2word=id2word)\n",
    "        model_list.append(model)\n",
    "        #coherence_model = CoherenceModel(model=model, texts=texts, dictionary=dictionary, coherence='c_v')\n",
    "        #coherence_ldamallet = coherence_model.get_coherence()\n",
    "        #coherence_values.append(coherence_ldamallet)\n",
    "        print(\"LDA training time = %s min\" % ((time.time() - start_time)/60))\n",
    "        #print('Coherence Score: ', coherence_ldamallet)\n",
    "    return model_list"
   ]
  },
  {
   "cell_type": "code",
   "execution_count": null,
   "metadata": {},
   "outputs": [],
   "source": [
    "model_list = compute_coherence_values(dictionary=id2word, corpus=corpus, texts=data_lemmatized, start=10, limit=220, step=10)"
   ]
  },
  {
   "cell_type": "code",
   "execution_count": 29,
   "metadata": {},
   "outputs": [],
   "source": [
    "# To save our models \n",
    "import os\n",
    "directory = curr_dir + 'MalletModels/'\n",
    "if not os.path.exists(directory):\n",
    "    os.makedirs(directory)\n",
    "    \n",
    "for i,model in enumerate(model_list):\n",
    "    filename =  directory + str(i) + \".mallet\" \n",
    "    model.save(filename)"
   ]
  },
  {
   "cell_type": "code",
   "execution_count": null,
   "metadata": {},
   "outputs": [],
   "source": [
    "# To load our models \n",
    "# model_list = []\n",
    "# for i in range(20):\n",
    "#     filename =  current + \"MalletModels/\" + str(i) + \".mallet\"\n",
    "#     model_list.append(gensim.models.wrappers.LdaMallet.load(filename,mmap='r'))"
   ]
  },
  {
   "cell_type": "code",
   "execution_count": 315,
   "metadata": {},
   "outputs": [
    {
     "data": {
      "text/plain": [
       "21"
      ]
     },
     "execution_count": 315,
     "metadata": {},
     "output_type": "execute_result"
    }
   ],
   "source": [
    "len(model_list)\n",
    "# len(id2word)"
   ]
  },
  {
   "cell_type": "code",
   "execution_count": null,
   "metadata": {},
   "outputs": [],
   "source": [
    "coherence_values = []\n",
    "for Mmodel in model_list:\n",
    "    coherence_model = gensim.models.CoherenceModel(model=Mmodel, texts=data_lemmatized, dictionary=id2word, coherence='c_v', topn = 10)\n",
    "    coherence_ldamallet = coherence_model.get_coherence()\n",
    "    coherence_values.append(coherence_ldamallet)\n",
    "    print('Coherence Score: ', coherence_ldamallet)"
   ]
  },
  {
   "cell_type": "code",
   "execution_count": 30,
   "metadata": {},
   "outputs": [
    {
     "name": "stdout",
     "output_type": "stream",
     "text": [
      "21\n"
     ]
    }
   ],
   "source": [
    "# This is to save the Coherence_values to a text file\n",
    "print(len(coherence_values))\n",
    "with open(curr_dir + \"MalletModels/CV_Coherence_topn10.txt\",\"wt\") as f:\n",
    "    for C in coherence_values:\n",
    "        f.write(str(C) +\"\\n\")"
   ]
  },
  {
   "cell_type": "code",
   "execution_count": null,
   "metadata": {},
   "outputs": [],
   "source": [
    "# # Load Coherence_values form a text file to a list\n",
    "# coherence_values = []\n",
    "# with open(\"/home/CAMPUS/nabieir/HDD/LDA/Gensim-LDA/MalletModels/Coherences.txt\", \"r\") as f:\n",
    "#     for line in f:coherence_values.append(float(line.strip()))"
   ]
  },
  {
   "cell_type": "code",
   "execution_count": 43,
   "metadata": {},
   "outputs": [
    {
     "data": {
      "image/png": "[encoded data removed]",
      "text/plain": [
       "<Figure size 432x288 with 1 Axes>"
      ]
     },
     "metadata": {},
     "output_type": "display_data"
    }
   ],
   "source": [
    "# Show graph\n",
    "import matplotlib.pyplot as plt\n",
    "limit=220; start=10; step=10;\n",
    "x = range(start, limit, step)\n",
    "num_topic = range(start, limit, step)\n",
    "plt.plot(x, coherence_values)\n",
    "plt.xticks(np.arange(min(x), max(x)+1, 20))\n",
    "# ax.grid(True)\n",
    "plt.xlabel(\"Num Topics\")\n",
    "plt.ylabel(\"Coherence score (C_V)\")\n",
    "plt.legend((\"coherence_values\"), loc='best')\n",
    "plt.show()"
   ]
  },
  {
   "cell_type": "code",
   "execution_count": null,
   "metadata": {},
   "outputs": [],
   "source": [
    "# Print the coherence scores\n",
    "for m, cv in zip(num_topic, coherence_values):\n",
    "    print(\"Num Topics =\", m, \" has Coherence Value of\", round(cv, 4))"
   ]
  },
  {
   "cell_type": "code",
   "execution_count": 160,
   "metadata": {},
   "outputs": [
    {
     "name": "stdout",
     "output_type": "stream",
     "text": [
      "[('life', 0.08423256563053631), ('health', 0.04469318730874537), ('year', 0.037928813013367695), ('change', 0.03511032372362699), ('condition', 0.026896440650668384), ('treat', 0.020293122886133032), ('healthy', 0.02021259462071187), ('live', 0.017957803188919312), ('save', 0.017555161861813495), ('trust', 0.013689805121597681)]\n"
     ]
    }
   ],
   "source": [
    "#type(optimal_model)\n",
    "#optimal_model.show_topic(20,topn=10)\n",
    "print(topic_list[0])"
   ]
  },
  {
   "cell_type": "code",
   "execution_count": 214,
   "metadata": {},
   "outputs": [],
   "source": [
    "# Select the model with the highest coherence and print the topics\n",
    "# optimal_model = model_list[max(range(len(coherence_values)), key=coherence_values.__getitem__)]\n",
    "\n",
    "# roo = dict(sorted(optimal_model.show_topics(num_topics=50, num_words=10,formatted=False),key=lambda x: (x[0]))))\n",
    "topics_list = []\n",
    "for x in sorted(optimal_model.show_topics(num_topics=50,num_words=10,formatted=False),key=lambda x: (x[0])):\n",
    "     topic_list.append(x[1])\n",
    "    \n",
    "word_topic_matrix = np.zeros((50,len(id2word)))\n",
    "\n",
    "for y in range(50):\n",
    "    row = optimal_model.show_topic(y,topn=len(id2word))\n",
    "    for q,(x,z) in enumerate(row):\n",
    "        word_topic_matrix[y][q] = z"
   ]
  },
  {
   "cell_type": "code",
   "execution_count": 316,
   "metadata": {
    "scrolled": true
   },
   "outputs": [
    {
     "data": {
      "text/plain": [
       "[('life', 0.08423256563053631),\n",
       " ('health', 0.04469318730874537),\n",
       " ('year', 0.037928813013367695),\n",
       " ('change', 0.03511032372362699),\n",
       " ('condition', 0.026896440650668384),\n",
       " ('treat', 0.020293122886133032),\n",
       " ('healthy', 0.02021259462071187),\n",
       " ('live', 0.017957803188919312),\n",
       " ('save', 0.017555161861813495),\n",
       " ('trust', 0.013689805121597681)]"
      ]
     },
     "execution_count": 316,
     "metadata": {},
     "output_type": "execute_result"
    }
   ],
   "source": [
    "topic_list[0]"
   ]
  },
  {
   "cell_type": "markdown",
   "metadata": {},
   "source": [
    "# Finding the dominant topic in each sentence\n",
    "One of the practical application of topic modeling is to determine what topic a given document is about.\n",
    "To find that, we find the topic number that has the highest percentage contribution in that document.\n",
    "\n",
    "The format_topics_sentences() function below nicely aggregates this information in a presentable table.\n"
   ]
  },
  {
   "cell_type": "code",
   "execution_count": null,
   "metadata": {},
   "outputs": [],
   "source": [
    "# #optimal_model[corpus[1]]\n",
    "# print(len(data))\n",
    "# print(len(corpus))\n",
    "# print(len(df_dominant_topic))\n",
    "# df_dominant_topic.tail(20)"
   ]
  },
  {
   "cell_type": "code",
   "execution_count": null,
   "metadata": {},
   "outputs": [],
   "source": [
    "# df_dominant_topic.to_pickle(\"df_dominant_topic.pkl\")\n",
    "# df_topic_sents_keywords.to_pickle(\"df_topic_sents_keywords.pkl\")"
   ]
  },
  {
   "cell_type": "code",
   "execution_count": null,
   "metadata": {},
   "outputs": [],
   "source": [
    "A  = df_dominant_topic[['Dominant_Topic','Keywords']]  # prevelant to save topics first 10 words to CSV file\n",
    "B = A.drop_duplicates(subset='Dominant_Topic', keep=\"first\") \n",
    "B.sort_values('Dominant_Topic').to_csv(\"Keywords11.csv\",doublequote = False) "
   ]
  },
  {
   "cell_type": "code",
   "execution_count": 209,
   "metadata": {},
   "outputs": [],
   "source": [
    "# doc_topic_matrix = np.zeros((50,len(corpus)))\n",
    "# for i, row in enumerate(optimal_model[corpus]):\n",
    "#     row = sorted(row, key=lambda x: (x[0]))\n",
    "#     for topic,prop in row:\n",
    "#         doc_topic_matrix[topic][i] = prop\n",
    "        \n",
    "# np.save(curr_dir + \"doc_topic_matrix.npy\",doc_topic_matrix, allow_pickle=False)\n"
   ]
  },
  {
   "cell_type": "code",
   "execution_count": null,
   "metadata": {},
   "outputs": [],
   "source": [
    "f\n",
    "\n"
   ]
  },
  {
   "cell_type": "code",
   "execution_count": 259,
   "metadata": {},
   "outputs": [
    {
     "data": {
      "text/plain": [
       "False"
      ]
     },
     "execution_count": 259,
     "metadata": {},
     "output_type": "execute_result"
    }
   ],
   "source": [
    "a = [z for z in range(5) if z != 3] \n",
    "3 in a"
   ]
  },
  {
   "cell_type": "code",
   "execution_count": 288,
   "metadata": {},
   "outputs": [],
   "source": [
    "def w_discriminative_score(word, topic_id):\n",
    "    try:\n",
    "        word_id = id2word.token2id[word]\n",
    "        p_w_given_t = word_topic_matrix[topic_id][word_id]\n",
    "    except KeyError:\n",
    "        print(\"\\\"\" + word + \"\\\"\" + ' is not in list of vocabulary')\n",
    "        return 0;\n",
    "    \n",
    "    t_prime =[word_topic_matrix[z][word_id] for z in range(50) if z != topic_id] \n",
    "    p_w_given_t_prime = max(t_prime)\n",
    "    \n",
    "    return p_w_given_t/p_w_given_t_prime"
   ]
  },
  {
   "cell_type": "code",
   "execution_count": 303,
   "metadata": {},
   "outputs": [],
   "source": [
    "def sen_discriminative_score(sentence, topic_id):\n",
    "    sentence_score = 0\n",
    "    for word in sentence:\n",
    "        sentence_score += w_discriminative_score(word,topic_id)\n",
    "    return sentence_score/len(sentence)"
   ]
  },
  {
   "cell_type": "code",
   "execution_count": 305,
   "metadata": {},
   "outputs": [
    {
     "data": {
      "text/plain": [
       "'adult year become try true doctor snob wait extend period time hate call schedule appointment sick tell see week loathe feeling doctor care gibson staff may psychic surpass expectation start finish sit wait room minute call back nurse pam legit sweet friendly make sure comfortable gibson lovely spend minute room actively listen get know assure set office accommodate day appointment urgent case love also lab work house happy relieve finally find pcp care patient five_star doctor five_star office five_star experience'"
      ]
     },
     "execution_count": 305,
     "metadata": {},
     "output_type": "execute_result"
    }
   ],
   "source": [
    "data[1]"
   ]
  },
  {
   "cell_type": "markdown",
   "metadata": {},
   "source": [
    "# Very Important"
   ]
  },
  {
   "cell_type": "code",
   "execution_count": null,
   "metadata": {},
   "outputs": [],
   "source": [
    "print(topic_list[0])\n",
    "print('\\n'.join([data[i] for i in top10_doc[0][:4]]))"
   ]
  },
  {
   "cell_type": "code",
   "execution_count": 92,
   "metadata": {},
   "outputs": [
    {
     "data": {
      "text/html": [
       "<div>\n",
       "<style scoped>\n",
       "    .dataframe tbody tr th:only-of-type {\n",
       "        vertical-align: middle;\n",
       "    }\n",
       "\n",
       "    .dataframe tbody tr th {\n",
       "        vertical-align: top;\n",
       "    }\n",
       "\n",
       "    .dataframe thead th {\n",
       "        text-align: right;\n",
       "    }\n",
       "</style>\n",
       "<table border=\"1\" class=\"dataframe\">\n",
       "  <thead>\n",
       "    <tr style=\"text-align: right;\">\n",
       "      <th></th>\n",
       "      <th>Document_No</th>\n",
       "      <th>Dominant_Topic</th>\n",
       "      <th>Topic_Perc_Contrib</th>\n",
       "      <th>Keywords</th>\n",
       "      <th>Text</th>\n",
       "    </tr>\n",
       "  </thead>\n",
       "  <tbody>\n",
       "    <tr>\n",
       "      <th>0</th>\n",
       "      <td>0</td>\n",
       "      <td>8.0</td>\n",
       "      <td>0.0726</td>\n",
       "      <td>call, receive, send, return, request, referral...</td>\n",
       "      <td>never know awesome service staff shit hit fan ...</td>\n",
       "    </tr>\n",
       "    <tr>\n",
       "      <th>1</th>\n",
       "      <td>1</td>\n",
       "      <td>18.0</td>\n",
       "      <td>0.0615</td>\n",
       "      <td>wait, hour, room, minute, long, time, sit, hal...</td>\n",
       "      <td>adult year become try true doctor snob wait ex...</td>\n",
       "    </tr>\n",
       "    <tr>\n",
       "      <th>2</th>\n",
       "      <td>2</td>\n",
       "      <td>31.0</td>\n",
       "      <td>0.0660</td>\n",
       "      <td>surgery, ray, foot, procedure, week, hand, bre...</td>\n",
       "      <td>johnsen treat sports_relat knee injury profess...</td>\n",
       "    </tr>\n",
       "    <tr>\n",
       "      <th>3</th>\n",
       "      <td>3</td>\n",
       "      <td>12.0</td>\n",
       "      <td>0.0611</td>\n",
       "      <td>doctor, find, office, patient, nurse, talk, fi...</td>\n",
       "      <td>absolute_worst doctor office vegas wait hour e...</td>\n",
       "    </tr>\n",
       "    <tr>\n",
       "      <th>4</th>\n",
       "      <td>4</td>\n",
       "      <td>31.0</td>\n",
       "      <td>0.0481</td>\n",
       "      <td>surgery, ray, foot, procedure, week, hand, bre...</td>\n",
       "      <td>go liu seem great doctor office staff rude try...</td>\n",
       "    </tr>\n",
       "    <tr>\n",
       "      <th>5</th>\n",
       "      <td>5</td>\n",
       "      <td>28.0</td>\n",
       "      <td>0.0462</td>\n",
       "      <td>feel, make, question, answer, comfortable, rus...</td>\n",
       "      <td>owner joe thorough care client make feel comfo...</td>\n",
       "    </tr>\n",
       "    <tr>\n",
       "      <th>6</th>\n",
       "      <td>6</td>\n",
       "      <td>45.0</td>\n",
       "      <td>0.0547</td>\n",
       "      <td>great, staff, friendly, experience, job, highl...</td>\n",
       "      <td>jone great personable really spend time get kn...</td>\n",
       "    </tr>\n",
       "    <tr>\n",
       "      <th>7</th>\n",
       "      <td>7</td>\n",
       "      <td>39.0</td>\n",
       "      <td>0.1035</td>\n",
       "      <td>chiropractor, neck, chiropractic, back, adjust...</td>\n",
       "      <td>second baby attempt hit gym get back shape bod...</td>\n",
       "    </tr>\n",
       "    <tr>\n",
       "      <th>8</th>\n",
       "      <td>8</td>\n",
       "      <td>13.0</td>\n",
       "      <td>0.0791</td>\n",
       "      <td>good, recommend, find, friend, feel, wife, hap...</td>\n",
       "      <td>lee recommend friend bother shoulder pain weig...</td>\n",
       "    </tr>\n",
       "    <tr>\n",
       "      <th>9</th>\n",
       "      <td>9</td>\n",
       "      <td>41.0</td>\n",
       "      <td>0.0869</td>\n",
       "      <td>massage, therapist, feel, session, body, press...</td>\n",
       "      <td>impressed search good massage arrive phoenix a...</td>\n",
       "    </tr>\n",
       "    <tr>\n",
       "      <th>10</th>\n",
       "      <td>10</td>\n",
       "      <td>30.0</td>\n",
       "      <td>0.0528</td>\n",
       "      <td>time, long, spend, wait, waste, short, busy, d...</td>\n",
       "      <td>bad wait time always long urgent care facility...</td>\n",
       "    </tr>\n",
       "    <tr>\n",
       "      <th>11</th>\n",
       "      <td>11</td>\n",
       "      <td>49.0</td>\n",
       "      <td>0.1020</td>\n",
       "      <td>prescription, doctor, medication, med, give, p...</td>\n",
       "      <td>go pain center arizona matthew doust treat mot...</td>\n",
       "    </tr>\n",
       "    <tr>\n",
       "      <th>12</th>\n",
       "      <td>12</td>\n",
       "      <td>16.0</td>\n",
       "      <td>0.0757</td>\n",
       "      <td>place, nice, good, great, clean, awesome, supe...</td>\n",
       "      <td>office awesome paint everywhere fun cartoon ke...</td>\n",
       "    </tr>\n",
       "    <tr>\n",
       "      <th>13</th>\n",
       "      <td>13</td>\n",
       "      <td>5.0</td>\n",
       "      <td>0.1320</td>\n",
       "      <td>care, health, urgent, provider, primary, patie...</td>\n",
       "      <td>turntable first open fantastic however go way ...</td>\n",
       "    </tr>\n",
       "    <tr>\n",
       "      <th>14</th>\n",
       "      <td>14</td>\n",
       "      <td>34.0</td>\n",
       "      <td>0.0670</td>\n",
       "      <td>bad, place, people, rude, horrible, front_desk...</td>\n",
       "      <td>place absolutely horrible receptionist try avo...</td>\n",
       "    </tr>\n",
       "    <tr>\n",
       "      <th>15</th>\n",
       "      <td>15</td>\n",
       "      <td>16.0</td>\n",
       "      <td>0.0710</td>\n",
       "      <td>place, nice, good, great, clean, awesome, supe...</td>\n",
       "      <td>regret go dr skabo refer friend never let go w...</td>\n",
       "    </tr>\n",
       "    <tr>\n",
       "      <th>16</th>\n",
       "      <td>16</td>\n",
       "      <td>43.0</td>\n",
       "      <td>0.1423</td>\n",
       "      <td>physical_therapy, therapist, therapy, exercise...</td>\n",
       "      <td>year ago need physical_therapy know henceforth...</td>\n",
       "    </tr>\n",
       "    <tr>\n",
       "      <th>17</th>\n",
       "      <td>17</td>\n",
       "      <td>32.0</td>\n",
       "      <td>0.0539</td>\n",
       "      <td>professional, extremely, knowledgeable, recomm...</td>\n",
       "      <td>great friendly people really care recovery see...</td>\n",
       "    </tr>\n",
       "    <tr>\n",
       "      <th>18</th>\n",
       "      <td>18</td>\n",
       "      <td>47.0</td>\n",
       "      <td>0.0604</td>\n",
       "      <td>class, studio, room, clean, water, instructor,...</td>\n",
       "      <td>review nurse_practitioner courtney drive minut...</td>\n",
       "    </tr>\n",
       "    <tr>\n",
       "      <th>19</th>\n",
       "      <td>19</td>\n",
       "      <td>36.0</td>\n",
       "      <td>0.2139</td>\n",
       "      <td>result, test, blood, lab, work, order, follow,...</td>\n",
       "      <td>tice excellent doctor treat metabolic hormonal...</td>\n",
       "    </tr>\n",
       "  </tbody>\n",
       "</table>\n",
       "</div>"
      ],
      "text/plain": [
       "    Document_No  Dominant_Topic  Topic_Perc_Contrib  \\\n",
       "0             0             8.0              0.0726   \n",
       "1             1            18.0              0.0615   \n",
       "2             2            31.0              0.0660   \n",
       "3             3            12.0              0.0611   \n",
       "4             4            31.0              0.0481   \n",
       "5             5            28.0              0.0462   \n",
       "6             6            45.0              0.0547   \n",
       "7             7            39.0              0.1035   \n",
       "8             8            13.0              0.0791   \n",
       "9             9            41.0              0.0869   \n",
       "10           10            30.0              0.0528   \n",
       "11           11            49.0              0.1020   \n",
       "12           12            16.0              0.0757   \n",
       "13           13             5.0              0.1320   \n",
       "14           14            34.0              0.0670   \n",
       "15           15            16.0              0.0710   \n",
       "16           16            43.0              0.1423   \n",
       "17           17            32.0              0.0539   \n",
       "18           18            47.0              0.0604   \n",
       "19           19            36.0              0.2139   \n",
       "\n",
       "                                             Keywords  \\\n",
       "0   call, receive, send, return, request, referral...   \n",
       "1   wait, hour, room, minute, long, time, sit, hal...   \n",
       "2   surgery, ray, foot, procedure, week, hand, bre...   \n",
       "3   doctor, find, office, patient, nurse, talk, fi...   \n",
       "4   surgery, ray, foot, procedure, week, hand, bre...   \n",
       "5   feel, make, question, answer, comfortable, rus...   \n",
       "6   great, staff, friendly, experience, job, highl...   \n",
       "7   chiropractor, neck, chiropractic, back, adjust...   \n",
       "8   good, recommend, find, friend, feel, wife, hap...   \n",
       "9   massage, therapist, feel, session, body, press...   \n",
       "10  time, long, spend, wait, waste, short, busy, d...   \n",
       "11  prescription, doctor, medication, med, give, p...   \n",
       "12  place, nice, good, great, clean, awesome, supe...   \n",
       "13  care, health, urgent, provider, primary, patie...   \n",
       "14  bad, place, people, rude, horrible, front_desk...   \n",
       "15  place, nice, good, great, clean, awesome, supe...   \n",
       "16  physical_therapy, therapist, therapy, exercise...   \n",
       "17  professional, extremely, knowledgeable, recomm...   \n",
       "18  class, studio, room, clean, water, instructor,...   \n",
       "19  result, test, blood, lab, work, order, follow,...   \n",
       "\n",
       "                                                 Text  \n",
       "0   never know awesome service staff shit hit fan ...  \n",
       "1   adult year become try true doctor snob wait ex...  \n",
       "2   johnsen treat sports_relat knee injury profess...  \n",
       "3   absolute_worst doctor office vegas wait hour e...  \n",
       "4   go liu seem great doctor office staff rude try...  \n",
       "5   owner joe thorough care client make feel comfo...  \n",
       "6   jone great personable really spend time get kn...  \n",
       "7   second baby attempt hit gym get back shape bod...  \n",
       "8   lee recommend friend bother shoulder pain weig...  \n",
       "9   impressed search good massage arrive phoenix a...  \n",
       "10  bad wait time always long urgent care facility...  \n",
       "11  go pain center arizona matthew doust treat mot...  \n",
       "12  office awesome paint everywhere fun cartoon ke...  \n",
       "13  turntable first open fantastic however go way ...  \n",
       "14  place absolutely horrible receptionist try avo...  \n",
       "15  regret go dr skabo refer friend never let go w...  \n",
       "16  year ago need physical_therapy know henceforth...  \n",
       "17  great friendly people really care recovery see...  \n",
       "18  review nurse_practitioner courtney drive minut...  \n",
       "19  tice excellent doctor treat metabolic hormonal...  "
      ]
     },
     "execution_count": 92,
     "metadata": {},
     "output_type": "execute_result"
    }
   ],
   "source": [
    "def format_topics_sentences(ldamodel, corpus=corpus, texts=data):\n",
    "    # Init output\n",
    "    sent_topics_df = pd.DataFrame()\n",
    "\n",
    "    # Get main topic in each document\n",
    "    for i, row in enumerate(ldamodel[corpus]):\n",
    "        row = sorted(row, key=lambda x: (x[1]), reverse=True)\n",
    "        # Get the Dominant topic, Perc Contribution and Keywords for each document\n",
    "        for j, (topic_num, prop_topic) in enumerate(row):\n",
    "            if j == 0:  # => dominant topic\n",
    "                wp = ldamodel.show_topic(topic_num)\n",
    "                topic_keywords = \", \".join([word for word, prop in wp])\n",
    "                sent_topics_df = sent_topics_df.append(pd.Series([int(topic_num), round(prop_topic,4), topic_keywords]), ignore_index=True)\n",
    "            else:\n",
    "                break\n",
    "    sent_topics_df.columns = ['Dominant_Topic', 'Perc_Contribution', 'Topic_Keywords']\n",
    "\n",
    "    # Add original text to the end of the output\n",
    "    contents = pd.Series(texts)\n",
    "    sent_topics_df = pd.concat([sent_topics_df, contents], axis=1)\n",
    "    return(sent_topics_df)\n",
    "\n",
    "\n",
    "df_topic_sents_keywords = format_topics_sentences(ldamodel=optimal_model, corpus=corpus, texts=data)\n",
    "\n",
    "# Format\n",
    "df_dominant_topic = df_topic_sents_keywords.reset_index()\n",
    "df_dominant_topic.columns = ['Document_No', 'Dominant_Topic', 'Topic_Perc_Contrib', 'Keywords', 'Text']\n",
    "\n",
    "# Show\n",
    "df_dominant_topic.head(20)"
   ]
  },
  {
   "cell_type": "code",
   "execution_count": null,
   "metadata": {},
   "outputs": [],
   "source": []
  },
  {
   "cell_type": "code",
   "execution_count": null,
   "metadata": {},
   "outputs": [],
   "source": [
    "df_dominant_topic_Roo\n",
    "for i in [5,7,9]:\n",
    "    if i != 5:\n",
    "        df_topic_Roo = df_topic_Roo.append(format_topics_sentences(ldamodel=model_list[i], corpus=corpus, texts=data))\n",
    "\n",
    "# Format\n",
    "    df_dominant_topic_Roo[i] = df_topic_sents_keywords.reset_index()\n",
    "    df_dominant_topic_Roo[i].columns = ['Document_No', 'Dominant_Topic', 'Topic_Perc_Contrib', 'Keywords', 'Text']\n",
    "    "
   ]
  },
  {
   "cell_type": "code",
   "execution_count": null,
   "metadata": {},
   "outputs": [],
   "source": [
    "print(df_dominant_topic.iloc[7][4])\n",
    "print(sorted(optimal_model[corpus][4], key=lambda x: x[1], reverse= True))"
   ]
  },
  {
   "cell_type": "code",
   "execution_count": null,
   "metadata": {},
   "outputs": [],
   "source": []
  },
  {
   "cell_type": "code",
   "execution_count": null,
   "metadata": {},
   "outputs": [],
   "source": [
    "print(df_dominant_topic.iloc[10,3])\n",
    "print(df_dominant_topic.iloc[5,4])"
   ]
  },
  {
   "cell_type": "code",
   "execution_count": null,
   "metadata": {},
   "outputs": [],
   "source": [
    "optimal_model.show_topic(1)"
   ]
  },
  {
   "cell_type": "markdown",
   "metadata": {},
   "source": [
    "# Find the most representative document for each topic\n",
    "Sometimes just the topic keywords may not be enough to make sense of what a topic is about. So, to help with understanding the topic, you can find the documents a given topic has contributed to the most and infer the topic by reading that document. Whew!!"
   ]
  },
  {
   "cell_type": "code",
   "execution_count": null,
   "metadata": {},
   "outputs": [],
   "source": [
    "# Group top 5 sentences under each topic\n",
    "sent_topics_sorteddf_mallet = pd.DataFrame()\n",
    "\n",
    "sent_topics_outdf_grpd = df_topic_sents_keywords.groupby('Dominant_Topic')\n",
    "\n",
    "for i, grp in sent_topics_outdf_grpd:\n",
    "    sent_topics_sorteddf_mallet = pd.concat([sent_topics_sorteddf_mallet, \n",
    "                                             grp.sort_values(['Perc_Contribution'], ascending=[0]).head(1)], \n",
    "                                            axis=0)\n",
    "\n",
    "# Reset Index    \n",
    "sent_topics_sorteddf_mallet.reset_index(drop=True, inplace=True)\n",
    "\n",
    "# Format\n",
    "sent_topics_sorteddf_mallet.columns = ['Topic_Num', \"Topic_Perc_Contrib\", \"Keywords\", \"Text\"]\n",
    "\n",
    "# Show\n",
    "sent_topics_sorteddf_mallet.head()"
   ]
  },
  {
   "cell_type": "code",
   "execution_count": null,
   "metadata": {},
   "outputs": [],
   "source": [
    "print(sent_topics_sorteddf_mallet.iloc[20][2])\n",
    "print(sent_topics_sorteddf_mallet.iloc[20][3])"
   ]
  },
  {
   "cell_type": "markdown",
   "metadata": {},
   "source": [
    "# Topic distribution across documents\n",
    "Finally, we want to understand the volume and distribution of topics in order to judge how widely it was discussed. The below table exposes that information."
   ]
  },
  {
   "cell_type": "code",
   "execution_count": null,
   "metadata": {},
   "outputs": [],
   "source": [
    "# Number of Documents for Each Topic\n",
    "topic_counts = df_topic_sents_keywords['Dominant_Topic'].value_counts()\n",
    "\n",
    "# Percentage of Documents for Each Topic\n",
    "topic_contribution = round(topic_counts/topic_counts.sum(), 4)\n",
    "\n",
    "# Topic Number and Keywords\n",
    "topic_num_keywords = df_topic_sents_keywords[['Dominant_Topic', 'Topic_Keywords']]\n",
    "\n",
    "# Concatenate Column wise\n",
    "df_dominant_topics = pd.concat([topic_num_keywords, topic_counts, topic_contribution], axis=1)\n",
    "\n",
    "# Change Column names\n",
    "df_dominant_topics.columns = ['Dominant_Topic', 'Topic_Keywords', 'Num_Documents', 'Perc_Documents']\n",
    "\n",
    "# Show\n",
    "df_dominant_topics"
   ]
  },
  {
   "cell_type": "code",
   "execution_count": null,
   "metadata": {},
   "outputs": [],
   "source": [
    "a = [] \n",
    "a = a.append('333')\n",
    "print(a)"
   ]
  },
  {
   "cell_type": "code",
   "execution_count": null,
   "metadata": {},
   "outputs": [],
   "source": []
  }
 ],
 "metadata": {
  "kernelspec": {
   "display_name": "python3.6",
   "language": "python",
   "name": "myenv"
  },
  "language_info": {
   "codemirror_mode": {
    "name": "ipython",
    "version": 3
   },
   "file_extension": ".py",
   "mimetype": "text/x-python",
   "name": "python",
   "nbconvert_exporter": "python",
   "pygments_lexer": "ipython3",
   "version": "3.6.5"
  }
 },
 "nbformat": 4,
 "nbformat_minor": 2
}
