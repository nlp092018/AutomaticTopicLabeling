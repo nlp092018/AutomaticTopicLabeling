{
 "cells": [
  {
   "cell_type": "markdown",
   "metadata": {},
   "source": [
    "# 1. Import Packages"
   ]
  },
  {
   "cell_type": "markdown",
   "metadata": {},
   "source": [
    "Need to install these packages in terminal in your environment"
   ]
  },
  {
   "cell_type": "code",
   "execution_count": null,
   "metadata": {},
   "outputs": [],
   "source": [
    "# from pathlib import Path\n",
    "import os,sys\n",
    "from pathlib import Path\n",
    "curr_dir = os.getcwd() + '/'"
   ]
  },
  {
   "cell_type": "code",
   "execution_count": null,
   "metadata": {},
   "outputs": [],
   "source": [
    "from argparse import ArgumentParser\n",
    "parser = ArgumentParser(\n",
    "    description=\"'''This script removes all non-English and shorter than 200 char long sentences from the corpus'''\")\n",
    "parser.add_argument('input_file', metavar='input.txt', help='path to the source file')\n",
    "parser.add_argument('--output_dir', metavar='output/', help='path to the output directory', default=curr_dir)\n",
    "args = parser.parse_args()\n",
    "args = parser.parse_args()"
   ]
  },
  {
   "cell_type": "code",
   "execution_count": null,
   "metadata": {},
   "outputs": [],
   "source": [
    "filename = curr_dir + \"/YelpData/Dataset/clinical_reviews_texted.txt\" #Path to .txt data file one document per sentence\n",
    "if not os.path.isfile(filename):\n",
    "    print(\"Oops, file doesn't exist!\")\n",
    "else:\n",
    "    print(\"Yay, the file exists!\")\n",
    "#Read input .txt data and load to an array\n",
    "with open(filename, 'r', encoding=\"utf-8\") as f:\n",
    "    data = f.read().splitlines()\n",
    "\n",
    "    \n",
    "def savetofile (fpath,data):\n",
    "    with open(fpath,\"wt\") as f:\n",
    "        for sent in data:\n",
    "            f.write(sent + '\\n') "
   ]
  },
  {
   "cell_type": "markdown",
   "metadata": {},
   "source": [
    "# Deleting non-English sentences \n",
    "We can use polyglot or langdetect package. polyglot is faster and can be used for name-entity detection as well. "
   ]
  },
  {
   "cell_type": "code",
   "execution_count": null,
   "metadata": {},
   "outputs": [],
   "source": [
    "## detecting non-english sentences\n",
    "from polyglot.detect import Detector\n",
    "non_english = {}\n",
    "\n",
    "for i,sent in enumerate(data):\n",
    "    detector = Detector(sent,quiet=True)\n",
    "    if detector.language.code != 'en':\n",
    "        non_english[i] = sent\n",
    "print('Number of non-english documents:' + str(len(non_english)) , '\\nTotal number of documents:' + str(len(data)))\n",
    "\n",
    "## save only english text as a new source text data \n",
    "\n",
    "for index in sorted(non_english, reverse=True):     #Delete detected non_english sentences\n",
    "    del data[index]\n",
    "    \n",
    "#save non-english sentences into a file    \n",
    "with open(curr_dir + \"Outputs/clinical_reviews_only_english.txt\",\"wt\") as f:\n",
    "    for sent in data:\n",
    "        f.write(sent + '\\n')\n",
    "\n",
    "##### This is another package langdetect but it is slower !!!\n",
    "\n",
    "# from langdetect import detect\n",
    "\n",
    "# non_english = []\n",
    "\n",
    "# for i,sent in enumerate(data):\n",
    "#     detector = detect(sent)\n",
    "#     if detector != 'en':\n",
    "#         non_english.append(sent)\n",
    "#         print(i,sent)\n",
    "        \n",
    "# print(len(non_english))"
   ]
  },
  {
   "cell_type": "markdown",
   "metadata": {},
   "source": [
    "# Delete any sentences less than N character"
   ]
  },
  {
   "cell_type": "code",
   "execution_count": null,
   "metadata": {},
   "outputs": [],
   "source": [
    "N=200\n",
    "for n in data[:]:\n",
    "    if len(n) < N:\n",
    "        print(n)\n",
    "        data.remove(n)\n",
    "        \n",
    "savetofile(arg.input_file + \"/clinical_reviews_only_english_200char.txt\",data)  "
   ]
  }
 ],
 "metadata": {
  "kernelspec": {
   "display_name": "Python (myenv)",
   "language": "python",
   "name": "myenv"
  },
  "language_info": {
   "codemirror_mode": {
    "name": "ipython",
    "version": 3
   },
   "file_extension": ".py",
   "mimetype": "text/x-python",
   "name": "python",
   "nbconvert_exporter": "python",
   "pygments_lexer": "ipython3",
   "version": "3.6.5"
  }
 },
 "nbformat": 4,
 "nbformat_minor": 2
}
